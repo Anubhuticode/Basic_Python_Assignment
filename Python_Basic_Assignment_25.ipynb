{
 "cells": [
  {
   "cell_type": "markdown",
   "id": "8fbb5cea",
   "metadata": {},
   "source": [
    "# Python_Basic_Assignment_25"
   ]
  },
  {
   "cell_type": "code",
   "execution_count": null,
   "id": "9eff630a",
   "metadata": {},
   "outputs": [],
   "source": [
    "1. What is the difference between enclosing a list comprehension in square brackets and parentheses?"
   ]
  },
  {
   "cell_type": "code",
   "execution_count": 1,
   "id": "7ca72bf9",
   "metadata": {},
   "outputs": [
    {
     "data": {
      "text/plain": [
       "[0, 1, 2, 3, 4, 5, 6, 7, 8, 9]"
      ]
     },
     "execution_count": 1,
     "metadata": {},
     "output_type": "execute_result"
    }
   ],
   "source": [
    "lst = [i for i in range(10)]\n",
    "lst\n",
    "#List Comprehension with square brackets produces list.\n",
    "#List Comprehension with parentheses creates generators"
   ]
  },
  {
   "cell_type": "code",
   "execution_count": 2,
   "id": "e36da0e6",
   "metadata": {},
   "outputs": [
    {
     "data": {
      "text/plain": [
       "<generator object <genexpr> at 0x000002C7816BA270>"
      ]
     },
     "execution_count": 2,
     "metadata": {},
     "output_type": "execute_result"
    }
   ],
   "source": [
    "lstParanthesis = (i for i in range(10))\n",
    "lstParanthesis"
   ]
  },
  {
   "cell_type": "code",
   "execution_count": null,
   "id": "c55e3f1b",
   "metadata": {},
   "outputs": [],
   "source": [
    "2.What is the relationship between generators and iterators?"
   ]
  },
  {
   "cell_type": "code",
   "execution_count": null,
   "id": "6f409175",
   "metadata": {},
   "outputs": [],
   "source": [
    "An iterator is an object which contains a countable number of values and it is used to iterate\n",
    "over iterable objects like list, tuples etc.\n",
    "Using an iterator- iter() keyword is used to create an iterator containing an iterable object. \n",
    "next() keyword is used to call the next element in the iterable object.\n",
    "\n",
    "Generator\n",
    "It is another way of creating iterators in a simple way where it uses the keyword “yield” instead of returning it\n",
    "in a defined function. Generators are implemented using a function Here, the yield function returns the data without\n",
    "affecting or exiting the function. It will return a sequence of data in an iterable format where we need to iterate over \n",
    "the sequence to use the data as they won’t store the entire sequence in the memory.\n",
    "By using next() function we can iterate the output of generator function\n"
   ]
  },
  {
   "cell_type": "code",
   "execution_count": 4,
   "id": "67051471",
   "metadata": {},
   "outputs": [
    {
     "name": "stdout",
     "output_type": "stream",
     "text": [
      "Dog\n",
      "Cat\n",
      "Bear\n"
     ]
    }
   ],
   "source": [
    "# iterator\n",
    "iter_list = iter(['Dog', 'Cat', 'Bear'])\n",
    "print(next(iter_list))\n",
    "print(next(iter_list))\n",
    "print(next(iter_list))"
   ]
  },
  {
   "cell_type": "code",
   "execution_count": 6,
   "id": "f9a316ce",
   "metadata": {},
   "outputs": [
    {
     "name": "stdout",
     "output_type": "stream",
     "text": [
      "1\n",
      "4\n",
      "9\n",
      "16\n"
     ]
    }
   ],
   "source": [
    "# GEnerator \n",
    "\n",
    "def sq(n):\n",
    "    for i in range(1, n+1):\n",
    "        yield i*i\n",
    "lst = sq(6)\n",
    "print(next(lst))\n",
    "print(next(lst))\n",
    "print(next(lst))\n",
    "print(next(lst))"
   ]
  },
  {
   "cell_type": "code",
   "execution_count": null,
   "id": "f1ba51db",
   "metadata": {},
   "outputs": [],
   "source": [
    "3. What are the signs that a function is a generator function?"
   ]
  },
  {
   "cell_type": "code",
   "execution_count": null,
   "id": "38b847d3",
   "metadata": {},
   "outputs": [],
   "source": [
    "If a function contains at least one yield statement (it may contain other yield or return statements), \n",
    "it becomes a generator function.\n",
    "Both yield and return will return some value from a function."
   ]
  },
  {
   "cell_type": "code",
   "execution_count": null,
   "id": "e8783b97",
   "metadata": {},
   "outputs": [],
   "source": [
    "4. What is the purpose of a yield statement?"
   ]
  },
  {
   "cell_type": "code",
   "execution_count": null,
   "id": "9d6c61a4",
   "metadata": {},
   "outputs": [],
   "source": [
    "A yield statement looks much like a return statement, except that instead of stopping execution of the function and\n",
    "returning, yield instead provides a value to the code looping over the generator\n",
    "and pauses execution of the generator function"
   ]
  },
  {
   "cell_type": "code",
   "execution_count": null,
   "id": "4d48ba6a",
   "metadata": {},
   "outputs": [],
   "source": [
    "5. What is the relationship between map calls and list comprehensions? Make a comparison and contrast between the two?"
   ]
  },
  {
   "cell_type": "code",
   "execution_count": null,
   "id": "ea90582b",
   "metadata": {},
   "outputs": [],
   "source": [
    "Map function:\n",
    "Suppose we have a function and we want to compute this function for different values in a single line of code .\n",
    "This is where map() function plays its role. map() function returns a map object(which is an iterator) of the results after\n",
    "applying the given function to each item of a given iterable (list, tuple etc.)\n",
    "\n",
    "If we already have a function defined, it is often good to use map.\n",
    "For example, map(sum, myLists) is more neat than [sum(x) for x in myLists].\n",
    "\n",
    "\n",
    "List Comprehension:\n",
    "\n",
    "List Comprehension is a substitute for the lambda function, map(), filter() and reduce()\n",
    "\n",
    "Comparision :\n",
    "1.List comprehension is more concise and easier to read as compared to map\n",
    "2.List comprehension allows filtering. In map, we have no such facility\n",
    "For example, to print all even numbers in range of 100, we can write [n for n in range(100) if n%2 == 0].\n",
    "There is no alternate for it in map\n",
    "3. List comprehension are used when a list of results is required, \n",
    "where as map only returns a map object and does not return any list.\n",
    "4. List comprehension is faster than map when we need to evaluate expressions that are too long or complicated to express\n",
    "5. Map is faster in case of calling an already defined function (as no lambda is required)\n",
    "\n"
   ]
  },
  {
   "cell_type": "code",
   "execution_count": null,
   "id": "dce6b686",
   "metadata": {},
   "outputs": [],
   "source": []
  },
  {
   "cell_type": "code",
   "execution_count": null,
   "id": "25fe96d6",
   "metadata": {},
   "outputs": [],
   "source": []
  },
  {
   "cell_type": "code",
   "execution_count": null,
   "id": "7d19cbd9",
   "metadata": {},
   "outputs": [],
   "source": []
  },
  {
   "cell_type": "code",
   "execution_count": null,
   "id": "7a1a722d",
   "metadata": {},
   "outputs": [],
   "source": []
  }
 ],
 "metadata": {
  "kernelspec": {
   "display_name": "Python 3 (ipykernel)",
   "language": "python",
   "name": "python3"
  },
  "language_info": {
   "codemirror_mode": {
    "name": "ipython",
    "version": 3
   },
   "file_extension": ".py",
   "mimetype": "text/x-python",
   "name": "python",
   "nbconvert_exporter": "python",
   "pygments_lexer": "ipython3",
   "version": "3.9.12"
  }
 },
 "nbformat": 4,
 "nbformat_minor": 5
}
