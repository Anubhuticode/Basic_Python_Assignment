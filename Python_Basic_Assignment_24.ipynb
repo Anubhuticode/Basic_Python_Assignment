{
 "cells": [
  {
   "cell_type": "markdown",
   "id": "61df5c20",
   "metadata": {},
   "source": [
    "# Python_Basic_Assignment_24"
   ]
  },
  {
   "cell_type": "markdown",
   "id": "624714fb",
   "metadata": {},
   "source": [
    "1. What is the relationship between def statements and lambda expressions ?"
   ]
  },
  {
   "cell_type": "markdown",
   "id": "d6bc9049",
   "metadata": {},
   "source": [
    "Answer: Keyword def that marks the start of the function header. A function name to uniquely identify the function.\n",
    "Function naming follows the same rules of writing identifiers in Python.\n",
    "\n",
    "Lambdas are one-line methods without a name or we can say anonymous Func.\n",
    "They work practically the same as any other method in Python.\n",
    "Lambdas differ from normal Python methods because they can have\n",
    "only one expression, can't contain any statements and their return type is a function object."
   ]
  },
  {
   "cell_type": "markdown",
   "id": "285203d7",
   "metadata": {},
   "source": [
    "2. What is the benefit of lambda?"
   ]
  },
  {
   "cell_type": "markdown",
   "id": "ca2f4c22",
   "metadata": {},
   "source": [
    "Answer:  Fewer Lines of Code\n",
    "Lambda functions are inline functions and thus execute comparatively faster.\n",
    "Many times lambda functions make code much more readable by avoiding the logical jumps caused by function calls."
   ]
  },
  {
   "cell_type": "markdown",
   "id": "391e1995",
   "metadata": {},
   "source": [
    "3. Compare and contrast map, filter, and reduce."
   ]
  },
  {
   "cell_type": "markdown",
   "id": "71a4537e",
   "metadata": {},
   "source": [
    "Answer: map applies as a transformation to an element.\n",
    "The map() function iterates through all items in the given iterable and executes the function\n",
    "we passed as an argument on each of them. \n",
    "Syntax : map(function, iterable(s))\n",
    "    \n",
    "filter accumulates only elements matching a condition.\n",
    "filter() forms a new list that contains only elements that satisfy a certain condition, \n",
    "i.e. the function we passed returns True Syntax : filter(function, iterable(s)) \n",
    "    \n",
    "reduce accumulates all elements to a single value, by using immutable values\n",
    "reduce() works by calling the function we passed for the first two items in the sequence.\n",
    "The result returned by the function is used in another call to function alongside with the next (third in this case), \n",
    "element Syntax : reduce(function, sequence[, initial])    "
   ]
  },
  {
   "cell_type": "code",
   "execution_count": 1,
   "id": "a96ab4d6",
   "metadata": {},
   "outputs": [
    {
     "name": "stdout",
     "output_type": "stream",
     "text": [
      "True\n",
      "False\n",
      "False\n",
      "False\n",
      "False\n"
     ]
    }
   ],
   "source": [
    "### Map functions\n",
    "Animal = [\"Anteater\", \"Dog\", \"Elephant\", \"Giraffe\", \"Cat\"]\n",
    "map_object = map(lambda s: s[0] == \"A\", Animal)\n",
    "\n",
    "\n",
    "for i in map_object:\n",
    "    print(i)"
   ]
  },
  {
   "cell_type": "code",
   "execution_count": 2,
   "id": "4104c0eb",
   "metadata": {},
   "outputs": [
    {
     "name": "stdout",
     "output_type": "stream",
     "text": [
      "Anteater\n"
     ]
    }
   ],
   "source": [
    "### Filter function\n",
    "Animal = [\"Anteater\", \"Dog\", \"Elephant\", \"Giraffe\", \"Cat\"]\n",
    "filter_object = filter(lambda s: s[0] == \"A\", Animal)\n",
    "\n",
    "for i in filter_object:\n",
    "    print(i)"
   ]
  },
  {
   "cell_type": "code",
   "execution_count": 3,
   "id": "8d33e483",
   "metadata": {},
   "outputs": [
    {
     "name": "stdout",
     "output_type": "stream",
     "text": [
      "18\n",
      "With an initial value: 28\n"
     ]
    }
   ],
   "source": [
    "### Reduce function\n",
    "from functools import reduce\n",
    "\n",
    "list = [4, 3, 8, 3]\n",
    "print(reduce(lambda x, y: x + y, list))\n",
    "print(\"With an initial value: \" + str(reduce(lambda x, y: x + y, list, 10)))\n",
    "     "
   ]
  },
  {
   "cell_type": "markdown",
   "id": "5baeed15",
   "metadata": {},
   "source": [
    "4. What are function annotations, and how are they used?"
   ]
  },
  {
   "cell_type": "markdown",
   "id": "29e498de",
   "metadata": {},
   "source": [
    "Function annotations are arbitrary python expressions that are associated with various part of functions. \n",
    "These expressions are evaluated at compile time and have no life in python's runtime environment.\n",
    "Python does not attach any meaning to these annotations."
   ]
  },
  {
   "cell_type": "markdown",
   "id": "197f43fd",
   "metadata": {},
   "source": [
    "5. What are recursive functions, and how are they used?"
   ]
  },
  {
   "cell_type": "markdown",
   "id": "ca516997",
   "metadata": {},
   "source": [
    "A recursive function is a function that calls itself during its execution.\n",
    "This means that the function will continue to call itself and repeat its behavior until some condition is met \n",
    "to return a result."
   ]
  },
  {
   "cell_type": "code",
   "execution_count": 5,
   "id": "7b84500c",
   "metadata": {},
   "outputs": [
    {
     "data": {
      "text/plain": [
       "479001600"
      ]
     },
     "execution_count": 5,
     "metadata": {},
     "output_type": "execute_result"
    }
   ],
   "source": [
    "# eg\n",
    "def fact(x):\n",
    "    if x == 1 :\n",
    "        return 1\n",
    "    else :\n",
    "        return x * fact(x-1) # recurtion\n",
    "    \n",
    "fact(12)\n",
    "     "
   ]
  },
  {
   "cell_type": "markdown",
   "id": "627c702e",
   "metadata": {},
   "source": [
    "6. What are some general design guidelines for coding functions?"
   ]
  },
  {
   "cell_type": "markdown",
   "id": "0ea7d7bc",
   "metadata": {},
   "source": [
    "Use 4-space indentation and no tabs.\n",
    "Use docstrings\n",
    "Wrap linethat they don’t exceed 79 characters\n",
    "Use of regular and updated comments are valuable to both the coders and users\n",
    "Use of trailing commas : in case of tuple -> ('good',)\n",
    "Use Python’s default UTF-8 or ASCII encodings and not any fancy encodings\n",
    "Naming Conventions\n",
    "Characters that should not be used for identifiers : ‘l’ (lowercase letter el), ‘O’ (uppercase letter oh), ‘I’ (uppercase letter eye) as single character variable names as these are similar to the numerals one and zero.\n",
    "Don’t use non-ASCII characters in identifiers\n",
    "Name your classes and functions consistently \n",
    "While naming of function of methods always use self for the first argument"
   ]
  },
  {
   "cell_type": "markdown",
   "id": "d116a338",
   "metadata": {},
   "source": [
    "7. Name three or more ways that functions can communicate results to a caller."
   ]
  },
  {
   "cell_type": "markdown",
   "id": "2be88fa6",
   "metadata": {},
   "source": [
    "Function can return single value\n",
    "Can return multiple values, tuple\n",
    "can return list,dictionary\n",
    "can return function object\n",
    "can return class object"
   ]
  }
 ],
 "metadata": {
  "kernelspec": {
   "display_name": "Python 3 (ipykernel)",
   "language": "python",
   "name": "python3"
  },
  "language_info": {
   "codemirror_mode": {
    "name": "ipython",
    "version": 3
   },
   "file_extension": ".py",
   "mimetype": "text/x-python",
   "name": "python",
   "nbconvert_exporter": "python",
   "pygments_lexer": "ipython3",
   "version": "3.9.12"
  }
 },
 "nbformat": 4,
 "nbformat_minor": 5
}
