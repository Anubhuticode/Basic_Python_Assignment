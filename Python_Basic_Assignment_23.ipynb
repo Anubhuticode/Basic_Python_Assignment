{
 "cells": [
  {
   "cell_type": "markdown",
   "id": "a55bd2fa",
   "metadata": {},
   "source": [
    "# Python_Basic_Assignment_23"
   ]
  },
  {
   "cell_type": "markdown",
   "id": "ad9a968a",
   "metadata": {},
   "source": [
    "1.. What is the result of the code, and why?\n",
    "\n",
    ">>> def func(a, b=6, c=8): print(a, b, c) >>> func(1, 2)"
   ]
  },
  {
   "cell_type": "code",
   "execution_count": 2,
   "id": "afa65c8d",
   "metadata": {},
   "outputs": [
    {
     "name": "stdout",
     "output_type": "stream",
     "text": [
      "1 2 8\n"
     ]
    }
   ],
   "source": [
    "def func(a, b=6, c=8): \n",
    "    print(a, b, c)\n",
    "func(1, 2)\n",
    "\n",
    " #This funtion is taking a positional argument and 2 keyward argument. When function call is called, parameter passed \n",
    "  # are a=1,b=2. When the function is executed , parameter c=8 will be taken by default as its a keyword argument."
   ]
  },
  {
   "cell_type": "markdown",
   "id": "02d08a1c",
   "metadata": {},
   "source": [
    "2.What is the result of this code, and why?\n",
    "\n",
    ">>> def func(a, b, c=5): print(a, b, c) >>> func(1, c=3, b=2)"
   ]
  },
  {
   "cell_type": "code",
   "execution_count": 3,
   "id": "47daed3d",
   "metadata": {},
   "outputs": [
    {
     "name": "stdout",
     "output_type": "stream",
     "text": [
      "1 2 3\n"
     ]
    }
   ],
   "source": [
    "def func(a, b, c=5): \n",
    "    print(a, b, c)\n",
    "\n",
    "func(1, c=3, b=2)\n",
    "\n",
    "#When we make function call, order will be positional argument and then keywords arguments.\n",
    "#we can pass the keyword arguments in any order."
   ]
  },
  {
   "cell_type": "markdown",
   "id": "1913b102",
   "metadata": {},
   "source": [
    "3. How about this code: what is its result, and why? >>> def func(a, *pargs): print(a, pargs) >>> func(1, 2, 3)"
   ]
  },
  {
   "cell_type": "code",
   "execution_count": 4,
   "id": "373f0b1c",
   "metadata": {},
   "outputs": [
    {
     "name": "stdout",
     "output_type": "stream",
     "text": [
      "1 (2, 3)\n"
     ]
    }
   ],
   "source": [
    "def func(a, *pargs): \n",
    "    print(a, pargs) \n",
    "func(1, 2, 3)\n",
    "\n",
    "#The return type of *args parameter is tuple, where as **kargs will be dictionary"
   ]
  },
  {
   "cell_type": "markdown",
   "id": "1bc2edac",
   "metadata": {},
   "source": [
    "4. What does this code print, and why?\n",
    "\n",
    ">>> def func(a, **kargs): print(a, kargs) >>> func(a=1, c=3, b=2)"
   ]
  },
  {
   "cell_type": "code",
   "execution_count": 6,
   "id": "c3bcd77e",
   "metadata": {},
   "outputs": [
    {
     "name": "stdout",
     "output_type": "stream",
     "text": [
      "1 {'c': 3, 'b': 2}\n"
     ]
    }
   ],
   "source": [
    "def func(a, **kargs): \n",
    "    print(a, kargs)\n",
    "func(a=1, c=3, b=2)\n",
    "\n",
    "#The return type of *args parameter is tuple, where as **kargs will be dictionary"
   ]
  },
  {
   "cell_type": "markdown",
   "id": "eb748b75",
   "metadata": {},
   "source": [
    "5. What gets printed by this, and explain?\n",
    "\n",
    ">>> def func(a, b, c=8, d=5): print(a, b, c, d) >>> func(1, *(5, 6))"
   ]
  },
  {
   "cell_type": "code",
   "execution_count": 7,
   "id": "c265c1bd",
   "metadata": {},
   "outputs": [
    {
     "name": "stdout",
     "output_type": "stream",
     "text": [
      "1 5 6 5\n"
     ]
    }
   ],
   "source": [
    "def func(a, b, c=8, d=5): \n",
    "    print(a, b, c, d)\n",
    "func(1, *(5, 6))\n",
    "\n",
    "# '*' is the unpacking operator and are operators that unpack the values from iterable objects in Python. The single \n",
    "#    asterisk operator * can be used on any iterable that Python provides, while the double asterisk operator ** can only \n",
    " #   be used on dictionaries. In the example the value *(5,6) will be unpacked and will be assigned to b and c and passed \n",
    " #   as arguments, d =5 will taken by defaults are keyword arguments.\n"
   ]
  },
  {
   "cell_type": "markdown",
   "id": "2da9bd6b",
   "metadata": {},
   "source": [
    "6. what is the result of this, and explain?\n",
    "\n",
    ">>> def func(a, b, c): a = 2; b[0] = 'x'; c['a'] = 'y' >>> l=1; m=[1]; n={'a':0} >>> func(l, m, n)\n",
    "\n",
    ">>> l, m, n"
   ]
  },
  {
   "cell_type": "code",
   "execution_count": 11,
   "id": "c4bcf47e",
   "metadata": {},
   "outputs": [
    {
     "data": {
      "text/plain": [
       "(1, ['x'], {'a': 'y'})"
      ]
     },
     "execution_count": 11,
     "metadata": {},
     "output_type": "execute_result"
    }
   ],
   "source": [
    "def func(a, b, c): \n",
    "    a = 2; b[0] = 'x'; c['a'] = 'y'\n",
    "    \n",
    "l=1; m=[1]; n={'a':0}\n",
    "func(l, m, n)\n",
    "\n",
    "l, m, n\n",
    "\n",
    "# Ans. Here in the code, the list and dict are passed as argument, and those are mutable. Here the list l and parameter b point \n",
    "#to the same list in the memory location where as dict n and c point to the same memory location. Any updates to this \n",
    "#list will update in the memory location\n",
    "\n",
    "#l = 1 , integer values, immutable, m is list, mutable, n is dict, mutable.\n",
    "#output will be = 1,['x'],{'a':'y'}\n",
    "     "
   ]
  },
  {
   "cell_type": "code",
   "execution_count": null,
   "id": "679c29e1",
   "metadata": {},
   "outputs": [],
   "source": []
  },
  {
   "cell_type": "code",
   "execution_count": null,
   "id": "ed49ce07",
   "metadata": {},
   "outputs": [],
   "source": []
  },
  {
   "cell_type": "code",
   "execution_count": null,
   "id": "e99297ed",
   "metadata": {},
   "outputs": [],
   "source": []
  }
 ],
 "metadata": {
  "kernelspec": {
   "display_name": "Python 3 (ipykernel)",
   "language": "python",
   "name": "python3"
  },
  "language_info": {
   "codemirror_mode": {
    "name": "ipython",
    "version": 3
   },
   "file_extension": ".py",
   "mimetype": "text/x-python",
   "name": "python",
   "nbconvert_exporter": "python",
   "pygments_lexer": "ipython3",
   "version": "3.9.12"
  }
 },
 "nbformat": 4,
 "nbformat_minor": 5
}
